{
 "cells": [
  {
   "cell_type": "code",
   "execution_count": 2,
   "metadata": {},
   "outputs": [],
   "source": [
    "import os\n",
    "\n",
    "import numpy as np\n",
    "\n",
    "from build_vocabulary import build_vocabulary\n",
    "from create_results_webpage import create_results_webpage\n",
    "from get_bags_of_words import get_bags_of_words\n",
    "from get_image_paths import get_image_paths\n",
    "from svm_classify import svm_classify\n",
    "from get_spatial_pyramid_feats import get_spatial_pyramid_feats\n",
    "from pca_visualize import pca_visualize"
   ]
  },
  {
   "cell_type": "code",
   "execution_count": 3,
   "metadata": {},
   "outputs": [],
   "source": [
    "feature = 'HoG'\n",
    "# feature = 'SIFT'\n",
    "\n",
    "kernel_type = 'RBF'\n",
    "# kernel_type = 'linear'\n",
    "\n",
    "pca_out_dim = 2\n",
    "\n",
    "# representation = 'bag of words'\n",
    "representation = 'spatial_pyramid_feats'\n",
    "\n",
    "max_level = 2\n",
    "\n",
    "classifier = 'SVM'\n",
    "data_path = './data/'\n",
    "\n",
    "categories = ['Kitchen', 'Store', 'Bedroom', 'LivingRoom', 'Office',\n",
    "              'Industrial', 'Suburb', 'InsideCity', 'TallBuilding',\n",
    "              'Street', 'Highway', 'OpenCountry', 'Coast', 'Mountain',\n",
    "              'Forest']\n",
    "\n",
    "abbr_categories = ['Kit', 'Sto', 'Bed', 'Liv', 'Off', 'Ind', 'Sub',\n",
    "                   'Cty', 'Bld', 'St', 'HW', 'OC', 'Cst', 'Mnt', 'For']\n",
    "\n",
    "# Number of training examples per category to use.\n",
    "num_train_per_cat = 100\n",
    "\n",
    "# Vocabulary size (number of clusters for k-means clustering)\n",
    "vocab_size = 200"
   ]
  },
  {
   "cell_type": "code",
   "execution_count": 4,
   "metadata": {},
   "outputs": [],
   "source": [
    "def main():\n",
    "    print('Getting paths and labels for all train and test data')\n",
    "    train_image_paths, test_image_paths, train_labels, test_labels = \\\n",
    "        get_image_paths(data_path, categories, num_train_per_cat)\n",
    "\n",
    "    \"\"\" Step 1: Represent each image with the appropriate feature\n",
    "    Each function to construct features should return and N x d matrix, where\n",
    "    N is the number of paths passed to the function and d is the dimensionality\n",
    "    of each image representation.\n",
    "    \"\"\"\n",
    "    print('Using [%s] representation for image' % representation)\n",
    "\n",
    "    if feature == 'HoG':\n",
    "        if not os.path.exists('vocab_hog.npy'):\n",
    "            print('No existing visual word vocabulary found. '\n",
    "                  'Computing one from training images')\n",
    "\n",
    "            vocab = build_vocabulary(train_image_paths, vocab_size, feature)\n",
    "            np.save('vocab_hog', vocab)\n",
    "    elif feature == 'SIFT':\n",
    "        if not os.path.exists('vocab_sift.npy'):\n",
    "            print('No existing visual word vocabulary found. '\n",
    "                  'Computing one from training images')\n",
    "\n",
    "            vocab = build_vocabulary(train_image_paths, vocab_size, feature)\n",
    "            np.save('vocab_sift', vocab)\n",
    "\n",
    "    pca_visualize(pca_out_dim, feature, vocab_size)\n",
    "\n",
    "    if representation == 'bag of words':\n",
    "        # Build vocabulary and save it as a file 'vocab.mat' for reuse.\n",
    "        train_image_feats = get_bags_of_words(train_image_paths, feature)\n",
    "        test_image_feats = get_bags_of_words(test_image_paths, feature)\n",
    "    elif representation == 'spatial_pyramid_feats':\n",
    "        train_image_feats = get_spatial_pyramid_feats(train_image_paths, max_level, feature)\n",
    "        test_image_feats = get_spatial_pyramid_feats(test_image_paths, max_level, feature)\n",
    "    else:\n",
    "        raise KeyError('No such representation %s is defined' % representation)\n",
    "\n",
    "    \"\"\" Step 2: Classify each test image by training and using the appropriate classifier\n",
    "    Each function to classify test features will return an N x 1 array, where\n",
    "    N is the number of test cases and each entry is string indicating the predicted\n",
    "    category for each test image. Each entry in 'predicted_categories' must be one of\n",
    "    the 15 string in 'categories', 'train_labels', and 'test_labels'.\n",
    "    \"\"\"\n",
    "    print('Using [%s] classifier to predict test set categories' % classifier)\n",
    "\n",
    "    if classifier == 'SVM':\n",
    "        predicted_categories = svm_classify(train_image_feats, train_labels, test_image_feats, kernel_type)\n",
    "    else:\n",
    "        raise KeyError('No such classifier %s is defined' % classifier)\n",
    "\n",
    "    \"\"\" Step 3: Build a confusion matrix and score the recongnition system\n",
    "    You do not need to code anything in this section.\n",
    "    \"\"\"\n",
    "    create_results_webpage(train_image_paths, test_image_paths, train_labels, test_labels,\n",
    "                           categories, abbr_categories, predicted_categories)"
   ]
  },
  {
   "cell_type": "code",
   "execution_count": 5,
   "metadata": {},
   "outputs": [
    {
     "name": "stdout",
     "output_type": "stream",
     "text": [
      "Getting paths and labels for all train and test data\n",
      "Using [spatial_pyramid_feats] representation for image\n"
     ]
    },
    {
     "data": {
      "image/png": "[encoded data removed]",
      "text/plain": [
       "<Figure size 432x288 with 1 Axes>"
      ]
     },
     "metadata": {},
     "output_type": "display_data"
    },
    {
     "name": "stdout",
     "output_type": "stream",
     "text": [
      "Using [SVM] classifier to predict test set categories\n",
      "Creating results_webpage/index.html, thumbnails, and confusion matrix\n",
      "Accuracy (mean of diagonal of confusion matrix) is 0.067\n"
     ]
    },
    {
     "data": {
      "image/png": "[encoded data removed]",
      "text/plain": [
       "<Figure size 432x288 with 1 Axes>"
      ]
     },
     "metadata": {},
     "output_type": "display_data"
    }
   ],
   "source": [
    "if __name__ == '__main__':\n",
    "    main()"
   ]
  },
  {
   "cell_type": "code",
   "execution_count": null,
   "metadata": {},
   "outputs": [],
   "source": []
  }
 ],
 "metadata": {
  "kernelspec": {
   "display_name": "Python 3",
   "language": "python",
   "name": "python3"
  },
  "language_info": {
   "codemirror_mode": {
    "name": "ipython",
    "version": 3
   },
   "file_extension": ".py",
   "mimetype": "text/x-python",
   "name": "python",
   "nbconvert_exporter": "python",
   "pygments_lexer": "ipython3",
   "version": "3.6.5"
  }
 },
 "nbformat": 4,
 "nbformat_minor": 2
}
